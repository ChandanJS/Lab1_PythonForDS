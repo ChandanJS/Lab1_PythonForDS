{
 "cells": [
  {
   "cell_type": "code",
   "execution_count": null,
   "id": "d6764c07-5bf5-4565-8f2b-9534f2622268",
   "metadata": {},
   "outputs": [],
   "source": [
    "import mysql.connector \n",
    "import pandas as pd"
   ]
  },
  {
   "cell_type": "code",
   "execution_count": null,
   "id": "22f82d0c-57a8-4c18-9434-09cc04aaeb7f",
   "metadata": {},
   "outputs": [],
   "source": [
    "#DB connection & cursor creation\n",
    "connection1=mysql.connector.connect(host =\"localhost\",\n",
    "                                 user =\"root\",\n",
    "                                 password=\"1234\",\n",
    "                                 database =\"e_commerce\")\n",
    "\n",
    "print(\"DB connection sucessful\")\n",
    "cursorObject=connection1.cursor()\n",
    "print(\"cursor created\")"
   ]
  },
  {
   "cell_type": "code",
   "execution_count": null,
   "id": "706f6908-34fb-4223-858c-874a07897c84",
   "metadata": {},
   "outputs": [],
   "source": [
    "#supplier table creation\n",
    "cursorObject.execute(\"create table supplier(Supp_ID int(4) not null, Supp_name varchar(50), Supp_City Varchar(50), Supp_phone varchar(10))\")"
   ]
  },
  {
   "cell_type": "code",
   "execution_count": null,
   "id": "4302e64a-30c0-46a2-a05a-5d1ea2bc874d",
   "metadata": {},
   "outputs": [],
   "source": [
    "#customer table creation\n",
    "cursorObject.execute(\"create table customer(cus_id int(4) not null primary key, cus_name varchar(20) null default null, cus_phone varchar(10),cus_city varchar(30), cus_gender char(4))\")"
   ]
  },
  {
   "cell_type": "code",
   "execution_count": null,
   "id": "2fb6bb06-f262-4dc5-bcc8-b19e15b0cad1",
   "metadata": {},
   "outputs": [],
   "source": [
    "#category table creation\n",
    "cursorObject.execute(\"create table category(cat_id int(4) not null primary key, cat_name varchar(20) null default null)\")"
   ]
  },
  {
   "cell_type": "code",
   "execution_count": null,
   "id": "f3c3415b-8cfb-4ac5-96fd-4cb896b0bc4e",
   "metadata": {},
   "outputs": [],
   "source": [
    "#product table creation\n",
    "cursorObject.execute(\"create table product(pro_id int(4) not null primary key, pro_name varchar(50) null default null, pro_desc varchar(60) null default null, cat_id int(4), foreign key (cat_id) references category(cat_id))\")"
   ]
  },
  {
   "cell_type": "code",
   "execution_count": null,
   "id": "f3527b5d-2746-41dd-8873-c27fffc9f6ab",
   "metadata": {},
   "outputs": [],
   "source": [
    "#product_details table creation\n",
    "cursorObject.execute(\"create table product_details (prod_id int(4) primary key, pro_id int(4) not null, Supp_id int(4) not null,prod_price double not null, foreign key (pro_id) references product(pro_id))\")                  "
   ]
  },
  {
   "cell_type": "code",
   "execution_count": null,
   "id": "a5a6bf6a-e8a7-4688-bfd2-460943bd3f56",
   "metadata": {},
   "outputs": [],
   "source": [
    "#orders table creation\n",
    "cursorObject.execute(\"create table orders (ord_id int(4) primary key, ord_amount double null, ord_date date, cus_id int(4) not null, prod_id int(4) not null, foreign key (cus_id) references customer(cus_id), foreign key (prod_id) references product_details(prod_id))\")"
   ]
  },
  {
   "cell_type": "code",
   "execution_count": null,
   "id": "4faade7c-9e88-4a0d-8bbc-4766c4f67da0",
   "metadata": {},
   "outputs": [],
   "source": [
    "#rating table creation\n",
    "cursorObject.execute(\"create table rating (rat_id int(4) primary key, cus_id int(4) not null, Supp_ID int(4) not null, rat_ratstars int(4) not null, foreign key (cus_id) references customer(cus_id), foreign key (Supp_ID) references supplier(Supp_ID))\") "
   ]
  },
  {
   "cell_type": "code",
   "execution_count": null,
   "id": "b83b4810-8aaa-4167-81ac-54dd9bb635ad",
   "metadata": {},
   "outputs": [],
   "source": [
    "#category table insertion\n",
    "sql_stmt= \"insert into category(cat_id,cat_name) values (%s,%s)\"\n",
    "vals = [\n",
    "            ('16','BOOKS'),\n",
    "            ('12','GAMES'),\n",
    "            ('13','GROCERIES'),\n",
    "            ('14','ELECTRONICS'),\n",
    "            ('15','CLOTHS')\n",
    "        ]\n",
    "cursorObject.executemany(sql_stmt,vals)\n",
    "connection1.commit()\n",
    "print(cursorObject.rowcount,\"was inserted @CATEGORY Table\")\n"
   ]
  },
  {
   "cell_type": "code",
   "execution_count": null,
   "id": "d9d9922c-bdf7-447b-86dd-9bcdbd4f5311",
   "metadata": {},
   "outputs": [],
   "source": [
    "#supplier table insertion\n",
    "sql_stmt=\"insert into supplier(Supp_ID, Supp_name,Supp_city, Supp_phone) values (%s,%s,%s,%s)\"\n",
    "vals =[\n",
    "        ('1','Rajesh Retails','Delhi','9706041508'),\n",
    "        ('2','Appario Ltd','Mumbai','9706041507'),\n",
    "        ('3','Knome Pr;oducts','Bangalore','9785462315'),\n",
    "        ('4','Bansal Retails','Kochi','8975463285'),\n",
    "        ('5','Mittal Ltd','Lucknow','7898456532')\n",
    "]\n",
    "cursorObject.executemany(sql_stmt,vals)\n",
    "connection1.commit()\n",
    "print(cursorObject.rowcount,\"was inserted @Supplier Table\")"
   ]
  },
  {
   "cell_type": "code",
   "execution_count": null,
   "id": "5b8a9e18-93fa-4616-9247-8cb62aacde3b",
   "metadata": {},
   "outputs": [],
   "source": [
    "#customer table insertion\n",
    "sql_stmt=\"insert into customer(cus_id,cus_name,cus_phone,cus_city,cus_gender) values (%s,%s,%s,%s,%s)\"\n",
    "vals =[\n",
    "        ('1','AAKASH','9999999999','DELHI','M'),\n",
    "        ('2','AMAN','9785463215','NOIDA','M'),\n",
    "        ('3','NEHA','9999999998','MUMBAI','F'),\n",
    "        ('4','MEGHA','9994562399','KOLKATA','F'),\n",
    "        ('5','PULKIT','7895999999','LUCKNOW','M')\n",
    "]\n",
    "cursorObject.executemany(sql_stmt,vals)\n",
    "connection1.commit()\n",
    "print(cursorObject.rowcount,\"was inserted @Customer Table\")\n"
   ]
  },
  {
   "cell_type": "code",
   "execution_count": null,
   "id": "1703d998-6930-4afb-9778-2e755a29e7e0",
   "metadata": {},
   "outputs": [],
   "source": [
    "#product table insertion\n",
    "sql_stmt=\"insert into product(pro_id,pro_name,pro_desc,cat_id) values (%s,%s,%s,%s)\"\n",
    "vals =[\n",
    "        ('1','GTA V','DFJDJFDJFDJFDJFJF','2'),\n",
    "        ('2','TSHIRT','DFDFJDFJDKFD','5'),\n",
    "        ('3','ROG LAPTOP','DFNTTNTNTERND','4'),\n",
    "        ('4','OATS','REURENTBTOTH','5'),\n",
    "        ('5','HARRY POTTER','NBEMCTHTJTH','1')\n",
    "]\n",
    "cursorObject.executemany(sql_stmt,vals)\n",
    "connection1.commit()\n",
    "print(cursorObject.rowcount,\"was inserted @Product Table\")"
   ]
  },
  {
   "cell_type": "code",
   "execution_count": null,
   "id": "56c9fd64-755b-429f-aef9-7e268c5b9b2d",
   "metadata": {},
   "outputs": [],
   "source": [
    "#product_details table insertion\n",
    "sql_stmt =\"insert into product_details(prod_id,pro_id,Supp_id,prod_price) values (%s,%s,%s,%s)\"\n",
    "vals =[\n",
    "        ('1','1','2','1500'),\n",
    "        ('2','3','5','30000'),\n",
    "        ('3','5','1','3000'),\n",
    "        ('4','2','3','2500'),\n",
    "        ('5','4','1','1000')\n",
    "]\n",
    "cursorObject.executemany(sql_stmt,vals)\n",
    "connection1.commit()\n",
    "print(cursorObject.rowcount,\"was inserted @Product_details Table\")"
   ]
  },
  {
   "cell_type": "code",
   "execution_count": null,
   "id": "518bb76a-e688-4abe-89f2-cd80a8b18110",
   "metadata": {},
   "outputs": [],
   "source": [
    "#order table insertion\n",
    "sql_stmt=\"insert into orders(ord_id,ord_amount,ord_date,cus_id,prod_id) values (%s,%s,%s,%s,%s)\"\n",
    "vals=[\n",
    "        ('20','1500','2021-10-12','3','5'),\n",
    "        ('25','30500','2021-09-16','5','2'),\n",
    "        ('26','2000','2021-10-05','1','1'),\n",
    "        ('30','3500','2021-08-16','4','3'),\n",
    "        ('50','2000','2021-10-06','2','1')\n",
    "]\n",
    "cursorObject.executemany(sql_stmt,vals)\n",
    "connection1.commit()\n",
    "print(cursorObject.rowcount,\"was inserted @Orders Table\")"
   ]
  },
  {
   "cell_type": "code",
   "execution_count": null,
   "id": "66c6a2d2-5ddd-449c-894d-10a33bc40465",
   "metadata": {},
   "outputs": [],
   "source": [
    "#rating table insertion\n",
    "sql_stmt=\"insert into rating(rat_id,cus_id,Supp_id,rat_ratstars) values (%s,%s,%s,%s)\"\n",
    "vals=[\n",
    "        ('1','2','2','4'),\n",
    "        ('2','3','4','3'),\n",
    "        ('3','5','1','5'),\n",
    "        ('4','1','3','2'),\n",
    "        ('5','4','5','4')\n",
    "]\n",
    "cursorObject.executemany(sql_stmt,vals)\n",
    "connection1.commit()\n",
    "print(cursorObject.rowcount,\"was inserted @Rating Table\")\n"
   ]
  },
  {
   "cell_type": "code",
   "execution_count": null,
   "id": "368726b0-6535-432a-9bad-b953c9ffdec2",
   "metadata": {},
   "outputs": [],
   "source": [
    "# Q3 solution\n",
    "query=\"\"\"select c.cus_gender as Gender, count(c.cus_gender) as Count from customer c inner join orders o on c.cus_id=o.cus_id \n",
    "        where o.ord_amount >= 3000\n",
    "        group by c.cus_gender;\"\"\"\n",
    "cursorObject.execute(query)\n",
    "myresult=cursorObject.fetchall()\n",
    "outputdf=pd.DataFrame(myresult,columns=['Cus_Gender','Count'])\n",
    "outputdf\n",
    "                      "
   ]
  },
  {
   "cell_type": "code",
   "execution_count": null,
   "id": "2f2f7457-2916-4b48-a994-b3dfaf73c18e",
   "metadata": {},
   "outputs": [],
   "source": [
    "#Q4 Solution\n",
    "query=\"\"\"select c.cus_id,c.cus_name,p.pro_name,pdt.prod_id,o.ord_id,o.ord_amount,o.ord_date\n",
    "         from customer c, orders o, product p, product_details pdt\n",
    "         where \n",
    "         c.cus_id=o.cus_id and o.prod_id=pdt.prod_id and p.pro_id=pdt.pro_id and \n",
    "         c.cus_id=2;\"\"\"\n",
    "cursorObject.execute(query)\n",
    "myresult=cursorObject.fetchall()\n",
    "outputdf=pd.DataFrame(myresult,columns=['Customer_ID','Customer_Name','ProductName','ProductID','OrderID','OrderAmount','OrderDate'])\n",
    "outputdf"
   ]
  },
  {
   "cell_type": "code",
   "execution_count": null,
   "id": "f0081e67-30de-4c42-aef2-11476db568f6",
   "metadata": {},
   "outputs": [],
   "source": [
    "#Q5 Solutions\n",
    "query=\"\"\"select s.Supp_name,s.Supp_id,s.Supp_City,s.Supp_phone from supplier s inner join\n",
    "        (\tselect distinct(Supp_id) from product_details\n",
    "            group by Supp_id\n",
    "            having count(Supp_id)>1\n",
    "        ) as pdt\n",
    "        on s.Supp_id=pdt.Supp_id;\"\"\"\n",
    "cursorObject.execute(query)\n",
    "myresult=cursorObject.fetchall()\n",
    "outputdf=pd.DataFrame(myresult,columns=['SupplierName','SupplierID','City','ContactNo'])\n",
    "outputdf"
   ]
  },
  {
   "cell_type": "code",
   "execution_count": null,
   "id": "482e3212-ee28-4220-a1ee-ef0468dde97d",
   "metadata": {},
   "outputs": [],
   "source": [
    "#Q10 Solutions\n",
    "query=\"\"\"select sum(o.ord_amount),c.cus_gender from \n",
    "        customer c, orders o\n",
    "        where \n",
    "        c.cus_id=o.cus_id and\n",
    "        c.cus_gender='M';\"\"\"\n",
    "cursorObject.execute(query)\n",
    "myresult=cursorObject.fetchall()\n",
    "outputdf=pd.DataFrame(myresult,columns=['TotalOrderAmount','Gender'])\n",
    "outputdf"
   ]
  },
  {
   "cell_type": "code",
   "execution_count": null,
   "id": "5ce7d163-343e-4f6f-977b-0860477e05e2",
   "metadata": {},
   "outputs": [],
   "source": [
    "#Q9 solutions\n",
    "query=\"\"\"select c.cus_name,c.cus_gender from customer c\n",
    "        where c.cus_name like '%a%' or '%A%' ;\"\"\"\n",
    "cursorObject.execute(query)\n",
    "myresult=cursorObject.fetchall()\n",
    "outputdf=pd.DataFrame(myresult,columns=['CustomerName','Gender'])\n",
    "outputdf"
   ]
  },
  {
   "cell_type": "code",
   "execution_count": null,
   "id": "20c42f4b-42ae-430d-a4cd-026d9a84cc0e",
   "metadata": {},
   "outputs": [],
   "source": [
    "#Q7 Solutions\n",
    "query=\"\"\"select p.pro_id,p.pro_name from orders o, product p, product_details pdt \n",
    "        where \n",
    "        o.prod_id=pdt.prod_id\n",
    "        and p.pro_id=pdt.pro_id\n",
    "        and o.ord_date >'2021-10-05' order by p.pro_id;\"\"\"\n",
    "cursorObject.execute(query)\n",
    "myresult=cursorObject.fetchall()\n",
    "outputdf=pd.DataFrame(myresult,columns=['ProductID','ProductName'])\n",
    "outputdf"
   ]
  },
  {
   "cell_type": "code",
   "execution_count": null,
   "id": "0b55d548-782a-4bfe-9fee-81b4ae2f18ee",
   "metadata": {},
   "outputs": [],
   "source": [
    "#Q11 Solution\n",
    "query=\"\"\"select customer.cus_id,customer.cus_name,customer.cus_phone,customer.cus_city,customer.cus_gender\n",
    "         from customer \n",
    "         left join orders on\n",
    "         customer.cus_id=orders.cus_id;\"\"\"\n",
    "cursorObject.execute(query)\n",
    "myresult=cursorObject.fetchall()\n",
    "outputdf=pd.DataFrame(myresult,columns=['CustomerID','Name','Phone','City','Gender'])\n",
    "outputdf"
   ]
  },
  {
   "cell_type": "code",
   "execution_count": null,
   "id": "132c741e-f83e-4aef-8b75-dd4c4c8d715a",
   "metadata": {},
   "outputs": [],
   "source": [
    "#Q6 Solutions\n",
    "\n",
    "query=\"\"\"select category.* from orders inner join product_details on \n",
    "        orders.prod_id=product_details.prod_id \n",
    "        inner join product on product.pro_id=product_details.pro_id\n",
    "        inner join category on category.cat_id=product.cat_id having (min(orders.ord_amount))\"\"\"\n",
    "\n",
    "cursorObject.execute(query)\n",
    "myresult=cursorObject.fetchall()\n",
    "outputdf=pd.DataFrame(myresult,columns=['CategoryID','CategoryName'])\n",
    "outputdf"
   ]
  },
  {
   "cell_type": "code",
   "execution_count": null,
   "id": "114c2722-fdd4-48bb-adf6-75a87470b4fb",
   "metadata": {},
   "outputs": [],
   "source": [
    "#Q8 Solution\n",
    "query=\"\"\"select * from\n",
    "            customer as cus inner join rating as rat \n",
    "            on cus.cus_id=rat.cus_id\n",
    "            inner join supplier as sup\n",
    "            on sup.Supp_id=rat.Supp_id\n",
    "            having max(rat.rat_ratstars)\"\"\"\n",
    "cursorObject.execute(query)\n",
    "myresult=cursorObject.fetchall()\n",
    "outputdf=pd.DataFrame(myresult,columns=['SupplierID','SupplierName','CustomerName','Rating'])\n",
    "outputdf\n"
   ]
  },
  {
   "cell_type": "code",
   "execution_count": null,
   "id": "68a420a6-a2fe-42ce-a95d-85d0bab8842b",
   "metadata": {},
   "outputs": [],
   "source": [
    "cursorObject.close()\n",
    "connection1.close()\n",
    "print(\"All Connection are closed\")"
   ]
  },
  {
   "cell_type": "code",
   "execution_count": null,
   "id": "9fa72d43-bdcb-4187-875c-fc21e2e9a4a4",
   "metadata": {},
   "outputs": [],
   "source": []
  }
 ],
 "metadata": {
  "kernelspec": {
   "display_name": "Python 3 (ipykernel)",
   "language": "python",
   "name": "python3"
  },
  "language_info": {
   "codemirror_mode": {
    "name": "ipython",
    "version": 3
   },
   "file_extension": ".py",
   "mimetype": "text/x-python",
   "name": "python",
   "nbconvert_exporter": "python",
   "pygments_lexer": "ipython3",
   "version": "3.11.7"
  }
 },
 "nbformat": 4,
 "nbformat_minor": 5
}
